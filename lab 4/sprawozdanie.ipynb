{
 "cells": [
  {
   "cell_type": "markdown",
   "metadata": {},
   "source": [
    "# <center>Rozwiązywanie układów równań</center>"
   ]
  },
  {
   "cell_type": "markdown",
   "metadata": {},
   "source": [
    "Instrukcja:\n",
    "Na zajęciach należy wykonać poniższe zadania, a następnie sporządzić sprawozdanie zawierające odpowiedzi (w postaci kodu) z komentarzami w środowisku Jupyter Notebook i umieścić je na platformie e-learningowej.   "
   ]
  },
  {
   "cell_type": "code",
   "execution_count": 3,
   "metadata": {},
   "outputs": [],
   "source": [
    "import main\n",
    "\n",
    "import numpy as np\n",
    "import scipy \n",
    "import matplotlib\n",
    "import matplotlib.pyplot as plt"
   ]
  },
  {
   "cell_type": "markdown",
   "metadata": {},
   "source": [
    "**Cel zajęć:** Celem zajęć jest zapoznanie się z numerycznymi metodami rozwiązywania układów równań liniowych. To podstawowe zadanie algebry liniowej które macierzowo możemy zapisać jako:  \n",
    "  \n",
    "$\n",
    "\\mathbf{Ax}=\\mathbf{b}\n",
    "$ \n",
    "  \n",
    "gdzie $\\mathbf{A}$ - macierz współczynników, $\\mathbf{x}$ - wektor zmiennych a $\\mathbf{b}$ - wektor wyników prawej strony równania.  \n",
    "\n",
    "Do oceny jakości rozwiązania będziemy wykorzystywać residuum (ang. *residual*)\n",
    "$\n",
    "\\mathbf{r}=\\mathbf{b}-\\mathbf{Ax}\n",
    "$ \n",
    "  "
   ]
  },
  {
   "cell_type": "markdown",
   "metadata": {},
   "source": []
  },
  {
   "cell_type": "markdown",
   "metadata": {},
   "source": [
    "**Zadanie Domowe **   \n",
    " \n",
    "1. Zaimplementuj funkcje *random\\_matrix\\_Ab* według opisu w pliku main.py generującą macierz kwadratową $\\mathbf{A}$ i wektor $\\mathbf{b}$ o zadanych wymiarach odpowiednio $m\\times m$, $m\\times 1$ i o wartościach losowych. W tym celu skorzystaj z funkcji *[randint](https://docs.scipy.org/doc/numpy-1.15.1/reference/generated/numpy.random.randint.html)*. W razie podania nieprawidłowej wartości m funkcja ma zwrócić wartość None.\n",
    "\n",
    "2. Wygeneruj takie macierze dla $m=10,\\ 20,\\ 50,\\ 100,\\ 1000$. \n",
    "\n",
    "3. Zaimplementuj normę residual_norm zgodnie z opisem z main.py (używając *[norm](https://docs.scipy.org/doc/numpy-1.15.1/reference/generated/numpy.linalg.norm.html?highlight=norm#numpy.linalg.norm)*) \n"
   ]
  },
  {
   "cell_type": "code",
   "execution_count": 4,
   "metadata": {},
   "outputs": [
    {
     "name": "stdout",
     "output_type": "stream",
     "text": [
      "[[19 71 37 26 79  7 54 54 40 12]\n",
      " [75 96 35 49 37 12 30 16 37 80]\n",
      " [81 57 89 42 65 58 74 54 19 11]\n",
      " [48 89 44 98 31 27 19 31 89 92]\n",
      " [99 81 33 38 57 35 70 88 60 12]\n",
      " [17 72 72 63 63 18 53 21 55 47]\n",
      " [97 69 86 54 43  0 87 20 32 92]\n",
      " [80 27 70 95  7 36 25 27 80 75]\n",
      " [80  5 36 46 50 46 66 25 15 71]\n",
      " [20  5 70 62 58 60 50 71 13 79]]\n",
      "[35 44 57 87 67 29  9 48 73 34]\n"
     ]
    }
   ],
   "source": [
    "(A1, b1) = main.random_matrix_Ab(10)\n",
    "(A2, b2) = main.random_matrix_Ab(20)\n",
    "(A3, b3) = main.random_matrix_Ab(50)\n",
    "(A4, b4) = main.random_matrix_Ab(100)\n",
    "(A5, b5) = main.random_matrix_Ab(1000)\n",
    "print(A1)\n",
    "print(b1)"
   ]
  },
  {
   "cell_type": "markdown",
   "metadata": {},
   "source": [
    "***Zadanie 1***   \n",
    " \n",
    "1. Dla macierzy i wektorów wygenerowanych w poprzednim zadaniu znajdź rozwiązanie układu równań $\\mathbf{Ax}=\\mathbf{b}$ używając funkcji *[solve](https://docs.scipy.org/doc/numpy-1.15.1/reference/generated/numpy.linalg.solve.html?highlight=solve#numpy.linalg.solve)*. \n",
    "\n",
    "2. Sprawdź dokładność otrzymanego rozwiązania (oblicz normę residuum).\n",
    "\n",
    "3. Określ uwarunkowanie macierzy $\\mathbf{A}$ przy pomocy funkcji *[cond](https://docs.scipy.org/doc/numpy-1.15.1/reference/generated/numpy.linalg.cond.html?highlight=cond#numpy.linalg.cond)*. \n",
    "\n",
    "4. Odpowiedź na pytanie czy zakres wartości oraz wymiary macierzy mają wpływ na jakość otrzymanych wyników? \n",
    "\n",
    "5. Zbadać czas wykonania obliczeń przy pomocy funkcji *timeint*\n",
    "  "
   ]
  },
  {
   "cell_type": "code",
   "execution_count": 5,
   "metadata": {},
   "outputs": [
    {
     "data": {
      "text/plain": [
       "Text(0.5, 1.0, 'Uwarunkowanie')"
      ]
     },
     "execution_count": 5,
     "metadata": {},
     "output_type": "execute_result"
    },
    {
     "data": {
      "image/png": "[encoded data removed]",
      "text/plain": [
       "<Figure size 640x480 with 2 Axes>"
      ]
     },
     "metadata": {},
     "output_type": "display_data"
    }
   ],
   "source": [
    "xaxis = [10, 20, 50 , 100, 1000]\n",
    "\n",
    "x1 = np.linalg.solve(A1, b1)\n",
    "x2 = np.linalg.solve(A2, b2)\n",
    "x3 = np.linalg.solve(A3, b3)\n",
    "x4 = np.linalg.solve(A4, b4)\n",
    "x5 = np.linalg.solve(A5, b5)\n",
    "solutions = [x1, x2, x3, x4, x5]\n",
    "# print(solutions)\n",
    "\n",
    "norm1 = main.residual_norm(A1, x1, b1)\n",
    "norm2 = main.residual_norm(A2, x2, b2)\n",
    "norm3 = main.residual_norm(A3, x3, b3)\n",
    "norm4 = main.residual_norm(A4, x4, b4)\n",
    "norm5 = main.residual_norm(A5, x5, b5)\n",
    "norms = [norm1, norm2, norm3, norm4, norm5]\n",
    "# print(norms)\n",
    "\n",
    "cond1 = np.linalg.cond(A1)    \n",
    "cond2 = np.linalg.cond(A2)    \n",
    "cond3 = np.linalg.cond(A3)    \n",
    "cond4 = np.linalg.cond(A4)    \n",
    "cond5 = np.linalg.cond(A5)    \n",
    "conds = [cond1, cond2, cond3, cond4, cond5]\n",
    "# print(conds)\n",
    "\n",
    "\n",
    "plt.suptitle('Wpływ rozmiaru macierzy na obliczenia')\n",
    "plt.subplot(1, 2, 1)\n",
    "plt.plot(xaxis, norms, 'o')\n",
    "plt.yscale('log')\n",
    "plt.title('Norma residuum')\n",
    "\n",
    "plt.subplot(1, 2, 2)\n",
    "plt.plot(xaxis, conds, 'o')\n",
    "plt.yscale('log')\n",
    "plt.title('Uwarunkowanie')\n",
    "\n",
    "# s_norm.set(yscale='log', xlabel='Rozmiar macierzy', ylabel='Norma residuum')\n",
    "# s_norm.set_title('Norma residuum')\n",
    "\n",
    "# s_cond.plot(m, cond_results, 'mo')\n",
    "# s_cond.set(yscale='log', xlabel='Rozmiar macierzy', ylabel='Uwarunkowanie macierzy')\n",
    "# s_cond.set_title('Uwarunkowanie');"
   ]
  },
  {
   "cell_type": "code",
   "execution_count": 6,
   "metadata": {},
   "outputs": [
    {
     "name": "stdout",
     "output_type": "stream",
     "text": [
      "Czas stworzenia i rozwiązania macierzy o rozmiarze 10: \n",
      "9.49 µs ± 1.96 µs per loop (mean ± std. dev. of 5 runs, 10 loops each)\n",
      "Czas stworzenia i rozwiązania macierzy o rozmiarze 20: \n",
      "9.66 µs ± 1.14 µs per loop (mean ± std. dev. of 5 runs, 10 loops each)\n",
      "Czas stworzenia i rozwiązania macierzy o rozmiarze 50: \n",
      "10.1 µs ± 1.43 µs per loop (mean ± std. dev. of 5 runs, 10 loops each)\n",
      "Czas stworzenia i rozwiązania macierzy o rozmiarze 100: \n",
      "9.3 µs ± 1.06 µs per loop (mean ± std. dev. of 5 runs, 10 loops each)\n",
      "Czas stworzenia i rozwiązania macierzy o rozmiarze 1000: \n",
      "9.2 µs ± 927 ns per loop (mean ± std. dev. of 5 runs, 10 loops each)\n"
     ]
    }
   ],
   "source": [
    "times = []\n",
    "time_averages = []\n",
    "for i in xaxis:\n",
    "    print(f\"Czas stworzenia i rozwiązania macierzy o rozmiarze {i}: \")\n",
    "    now = main.random_matrix_Ab(10)\n",
    "    saved_timing = %timeit -r 5 -n 10 -o np.linalg.solve(now[0] , now[1] )\n",
    "    time_averages.append(saved_timing.average)\n",
    "    times.append(saved_timing.stdev)"
   ]
  },
  {
   "cell_type": "code",
   "execution_count": 7,
   "metadata": {},
   "outputs": [
    {
     "name": "stdout",
     "output_type": "stream",
     "text": [
      "Czas stworzenia i obliczenia normy macierzy o rozmiarze 10: \n",
      "18.5 µs ± 3.89 µs per loop (mean ± std. dev. of 5 runs, 10 loops each)\n",
      "Czas stworzenia i obliczenia normy macierzy o rozmiarze 20: \n",
      "15.4 µs ± 1.89 µs per loop (mean ± std. dev. of 5 runs, 10 loops each)\n",
      "Czas stworzenia i obliczenia normy macierzy o rozmiarze 50: \n",
      "15.4 µs ± 1.53 µs per loop (mean ± std. dev. of 5 runs, 10 loops each)\n",
      "Czas stworzenia i obliczenia normy macierzy o rozmiarze 100: \n",
      "15.4 µs ± 1.46 µs per loop (mean ± std. dev. of 5 runs, 10 loops each)\n",
      "Czas stworzenia i obliczenia normy macierzy o rozmiarze 1000: \n",
      "15.7 µs ± 1.22 µs per loop (mean ± std. dev. of 5 runs, 10 loops each)\n"
     ]
    }
   ],
   "source": [
    "times = []\n",
    "time_averages = []\n",
    "for i in xaxis:\n",
    "    print(f\"Czas stworzenia i obliczenia normy macierzy o rozmiarze {i}: \")\n",
    "    now = main.random_matrix_Ab(10)\n",
    "    saved_timing = %timeit -r 5 -n 10 -o main.residual_norm(now[0], np.linalg.solve(now[0], now[1]), now[1])\n",
    "    time_averages.append(saved_timing.average)\n",
    "    times.append(saved_timing.stdev)"
   ]
  },
  {
   "cell_type": "code",
   "execution_count": 8,
   "metadata": {},
   "outputs": [
    {
     "name": "stdout",
     "output_type": "stream",
     "text": [
      "Czas stworzenia i obliczenia uwarunkowania macierzy o rozmiarze 10: \n",
      "33.4 µs ± 4.25 µs per loop (mean ± std. dev. of 5 runs, 10 loops each)\n",
      "Czas stworzenia i obliczenia uwarunkowania macierzy o rozmiarze 20: \n",
      "32.1 µs ± 2.35 µs per loop (mean ± std. dev. of 5 runs, 10 loops each)\n",
      "Czas stworzenia i obliczenia uwarunkowania macierzy o rozmiarze 50: \n",
      "31.8 µs ± 2.02 µs per loop (mean ± std. dev. of 5 runs, 10 loops each)\n",
      "Czas stworzenia i obliczenia uwarunkowania macierzy o rozmiarze 100: \n",
      "29.7 µs ± 2.29 µs per loop (mean ± std. dev. of 5 runs, 10 loops each)\n",
      "Czas stworzenia i obliczenia uwarunkowania macierzy o rozmiarze 1000: \n",
      "29.8 µs ± 2.11 µs per loop (mean ± std. dev. of 5 runs, 10 loops each)\n"
     ]
    }
   ],
   "source": [
    "times = []\n",
    "time_averages = []\n",
    "for i in xaxis:\n",
    "    print(f\"Czas stworzenia i obliczenia uwarunkowania macierzy o rozmiarze {i}: \")\n",
    "    now = main.random_matrix_Ab(10)\n",
    "    saved_timing = %timeit -r 5 -n 10 -o np.linalg.cond(now[0])\n",
    "    time_averages.append(saved_timing.average)\n",
    "    times.append(saved_timing.stdev)"
   ]
  },
  {
   "cell_type": "markdown",
   "metadata": {},
   "source": [
    "***Zadanie 2***  \n",
    "Rozkład dowolnej macierzy metodą  *[dekompozycji na wartości singularne](https://pl.wikipedia.org/wiki/Rozk%C5%82ad_wed%C5%82ug_warto%C5%9Bci_osobliwych)* można w Pythonie przeprowadzić przy pomocy funkcji *[svd](https://docs.scipy.org/doc/numpy-1.15.1/reference/generated/numpy.linalg.svd.html)*. Rozkład dla przykładowej macierzy obrazuje kod: "
   ]
  },
  {
   "cell_type": "code",
   "execution_count": 9,
   "metadata": {},
   "outputs": [
    {
     "name": "stdout",
     "output_type": "stream",
     "text": [
      "[6.4807407 0.        0.       ]\n",
      "Macierz A:\n",
      " [[1 2 3]\n",
      " [1 2 3]\n",
      " [1 2 3]]\n",
      "Macierz odtworzona z SVD:\n",
      " [[1. 2. 3.]\n",
      " [1. 2. 3.]\n",
      " [1. 2. 3.]]\n"
     ]
    }
   ],
   "source": [
    "import numpy as np\n",
    "import numpy.linalg as nplin\n",
    "\n",
    "A = np.array([[1,2,3],[1,2,3],[1,2,3]])\n",
    "\n",
    "# Użycie rozkładu SVD na macierzy A\n",
    "U,S,V = nplin.svd(A)\n",
    "\n",
    "print(S)\n",
    "# Odtworzenie macierzy A przy pomocy metody SVD\n",
    "A2 = np.dot(U * S, V)\n",
    " \n",
    "print(\"Macierz A:\\n {0}\".format(A))\n",
    "print(\"Macierz odtworzona z SVD:\\n {0}\".format(A2))"
   ]
  },
  {
   "cell_type": "markdown",
   "metadata": {},
   "source": [
    "Wykonaj następujące kroki:\n",
    "\n",
    "1. Zdefiniuj funkcję inicjalizujące wektory *wartości singularnych* w następujący sposób:\n"
   ]
  },
  {
   "cell_type": "markdown",
   "metadata": {},
   "source": [
    "- wektor nierosnących wartości singularnych w postaci wektora przestrzeni logarytmicznej, np:"
   ]
  },
  {
   "cell_type": "code",
   "execution_count": 10,
   "metadata": {},
   "outputs": [],
   "source": [
    "S1 = np.logspace(100, 1, num=3)"
   ]
  },
  {
   "cell_type": "markdown",
   "metadata": {},
   "source": [
    "- wektor nierosnących wartości singularnych, gdzie jedna wartość jest znacznie większa od pozostałych, np.:"
   ]
  },
  {
   "cell_type": "code",
   "execution_count": 11,
   "metadata": {},
   "outputs": [],
   "source": [
    "S2 = np.logspace(100, 1, num=3)\n",
    "S2[0] = S2[0]+100"
   ]
  },
  {
   "cell_type": "markdown",
   "metadata": {},
   "source": [
    "- wektor nierosnących wartości, gdzie jedna wartość jest znacznie mniejsza od pozostałych. "
   ]
  },
  {
   "cell_type": "code",
   "execution_count": 12,
   "metadata": {},
   "outputs": [],
   "source": [
    "S3 = np.logspace(100, 1, num=3)\n",
    "S3[-1] = S3[0]-100"
   ]
  },
  {
   "cell_type": "markdown",
   "metadata": {},
   "source": [
    "\n",
    "\n",
    "W celu inicjalizacji takich wektorów zaimplementuje funkcje:  \n",
    "    - *log\\_sing\\_value* zgodnie z opisem w main.py i użyciu funkcji *[logspace](https://docs.scipy.org/doc/numpy-1.15.1/reference/generated/numpy.logspace.html?highlight=logspace#numpy.logspace)*\n",
    "    - *order\\_sing\\_value* zgodnie z opisem w main.py\n",
    "\n",
    "2. Zdefiniuj funkcję *create_matrix_from_A* z pliku main, która dla zadanej macierzy A z *zadania 1* i wektorów warości singularnych z punktu 1. tego zadania będzie zwracać odtworzoną macierz z podmienionym wektorem warości singularnych przy pomocy metody SVD, jak w przykładzie:\n",
    " "
   ]
  },
  {
   "cell_type": "code",
   "execution_count": 13,
   "metadata": {},
   "outputs": [
    {
     "name": "stdout",
     "output_type": "stream",
     "text": [
      "Macierz pierwotna:\n",
      "[[1 2 3]\n",
      " [1 2 3]\n",
      " [1 2 3]]\n",
      "Macierz na podstawie wartości S1:\n",
      "[[1.5430335e+99 3.0860670e+99 4.6291005e+99]\n",
      " [1.5430335e+99 3.0860670e+99 4.6291005e+99]\n",
      " [1.5430335e+99 3.0860670e+99 4.6291005e+99]]\n",
      "Macierz na podstawie wartości S2:\n",
      "[[1.5430335e+99 3.0860670e+99 4.6291005e+99]\n",
      " [1.5430335e+99 3.0860670e+99 4.6291005e+99]\n",
      " [1.5430335e+99 3.0860670e+99 4.6291005e+99]]\n",
      "Macierz na podstawie wartości S3:\n",
      "[[-4.02045290e+99  3.94198798e+99  5.91298198e+99]\n",
      " [ 9.14289726e+99  1.91685719e+99  2.87528579e+99]\n",
      " [-4.93343857e+98  3.39935582e+99  5.09903374e+99]]\n"
     ]
    }
   ],
   "source": [
    "A = np.array([[1,2,3],[1,2,3],[1,2,3]])\n",
    "U,S,V = nplin.svd(A)\n",
    "\n",
    "A1 = np.dot(U * S1, V)\n",
    "A2 = np.dot(U * S2, V)\n",
    "A3 = np.dot(U * S3, V)\n",
    "print('Macierz pierwotna:')\n",
    "print(A) \n",
    "\n",
    "print('Macierz na podstawie wartości S1:')\n",
    "print(A1)\n",
    "\n",
    "print('Macierz na podstawie wartości S2:')\n",
    "print(A2)\n",
    "\n",
    "print('Macierz na podstawie wartości S3:')\n",
    "print(A3)"
   ]
  },
  {
   "cell_type": "markdown",
   "metadata": {},
   "source": [
    "\n",
    "\n",
    "3. Dla otrzymanych macierzy oblicz wartości współczynnika uwarunkowania. \n",
    "\n",
    "4. Odpowiedz na pytanie: czy konieczne jest wyliczanie macierzy aby to zrobić?\n",
    "\n",
    "5. Dla każdego $m$ sporządź wykres normy residuów rozwiązań i funkcji uwarunkowania macierzy. \n",
    "\n",
    "\n"
   ]
  },
  {
   "cell_type": "code",
   "execution_count": 31,
   "metadata": {},
   "outputs": [
    {
     "data": {
      "image/png": "[encoded data removed]",
      "text/plain": [
       "<Figure size 640x480 with 3 Axes>"
      ]
     },
     "metadata": {},
     "output_type": "display_data"
    },
    {
     "data": {
      "image/png": "[encoded data removed]",
      "text/plain": [
       "<Figure size 640x480 with 3 Axes>"
      ]
     },
     "metadata": {},
     "output_type": "display_data"
    }
   ],
   "source": [
    "norms1 = []\n",
    "norms2 = []\n",
    "norms3 = []\n",
    "conds1 = []\n",
    "conds2 = []\n",
    "conds3 = []\n",
    "\n",
    "for i in xaxis:\n",
    "   S1 = np.logspace(100, 1, num=i)\n",
    "   S2 = np.logspace(100, 1, num=i)\n",
    "   S2[0] = S2[0]+100\n",
    "   S3 = np.logspace(100, 1, num=i)\n",
    "   S3[-1] = S3[0]-100\n",
    "   (A, b) = main.random_matrix_Ab(i)\n",
    "   mat1 = main.create_matrix_from_A(A, S1)\n",
    "   mat2 = main.create_matrix_from_A(A, S2)\n",
    "   mat3 = main.create_matrix_from_A(A, S3)\n",
    "   \n",
    "   conds1.append(np.linalg.cond(mat1))\n",
    "   conds2.append(np.linalg.cond(mat2))\n",
    "   conds3.append(np.linalg.cond(mat3))\n",
    "\n",
    "   norms1.append(main.residual_norm(mat1, np.linalg.solve(mat1, b), b))\n",
    "   norms2.append(main.residual_norm(mat2, np.linalg.solve(mat2, b), b))\n",
    "   norms3.append(main.residual_norm(mat3, np.linalg.solve(mat3, b), b))\n",
    "\n",
    "\n",
    "\n",
    "plt.suptitle('Wykresy norm')\n",
    "plt.subplot(1, 3, 1)\n",
    "plt.semilogy(xaxis, norms1, 'o')\n",
    "plt.subplot(1, 3, 2)\n",
    "plt.semilogy(xaxis, norms2, 'o')\n",
    "plt.subplot(1, 3, 3)\n",
    "plt.semilogy(xaxis, norms3, 'o')\n",
    "plt.tight_layout()\n",
    "\n",
    "plt.figure()\n",
    "\n",
    "plt.suptitle('Wykresy uwarunkowania')\n",
    "plt.subplot(1, 3, 1)\n",
    "plt.semilogy(xaxis, conds1, 'o')\n",
    "plt.subplot(1, 3, 2)\n",
    "plt.semilogy(xaxis, conds2, 'o')\n",
    "plt.subplot(1, 3, 3)\n",
    "plt.semilogy(xaxis, conds3, 'o')\n",
    "plt.tight_layout()\n",
    "\n"
   ]
  },
  {
   "cell_type": "markdown",
   "metadata": {},
   "source": [
    "Materiały uzupełniające:\n",
    "- [Scipy Lecture Notes](http://www.scipy-lectures.org/index.html)\n",
    "- [NumPy for Matlab users](https://docs.scipy.org/doc/numpy/user/numpy-for-matlab-users.html#numpy-for-matlab-users)\n",
    "- [Python Tutorial - W3Schools](https://www.w3schools.com/python/default.asp)\n",
    "- [NumPy](https://www.numpy.org)\n",
    "- [Matplotlib](https://matplotlib.org/)\n",
    "- [Anaconda](https://www.anaconda.com/)\n",
    "- [Learn Python for Data Science](https://www.datacamp.com/learn-python-with-anaconda?utm_source=Anaconda_download&utm_campaign=datacamp_training&utm_medium=banner)\n",
    "- [Learn Python](https://www.learnpython.org/)\n",
    "- [Wujek Google](https://google.pl) i [Ciocia Wikipedia](https://pl.wikipedia.org/wiki/Wikipedia:Strona_g%C5%82%C3%B3wna)"
   ]
  }
 ],
 "metadata": {
  "kernelspec": {
   "display_name": "Python 3.9.10 64-bit",
   "language": "python",
   "name": "python3"
  },
  "language_info": {
   "codemirror_mode": {
    "name": "ipython",
    "version": 3
   },
   "file_extension": ".py",
   "mimetype": "text/x-python",
   "name": "python",
   "nbconvert_exporter": "python",
   "pygments_lexer": "ipython3",
   "version": "3.11.6"
  },
  "vscode": {
   "interpreter": {
    "hash": "aee8b7b246df8f9039afb4144a1f6fd8d2ca17a180786b69acc140d282b71a49"
   }
  }
 },
 "nbformat": 4,
 "nbformat_minor": 2
}
